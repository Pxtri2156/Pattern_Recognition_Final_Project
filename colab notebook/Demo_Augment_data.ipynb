{
  "nbformat": 4,
  "nbformat_minor": 0,
  "metadata": {
    "colab": {
      "name": "Demo_Augment_data.ipynb",
      "private_outputs": true,
      "provenance": [],
      "collapsed_sections": [
        "PDyIiUfFsqd5",
        "l89yAspN1ii2",
        "y9fAVGwYpzjT",
        "zBdl6Mewr7Z5",
        "FGfYJdDcr9Lr",
        "gqVgb4jFsVPs"
      ]
    },
    "kernelspec": {
      "name": "python3",
      "display_name": "Python 3"
    },
    "language_info": {
      "name": "python"
    }
  },
  "cells": [
    {
      "cell_type": "markdown",
      "metadata": {
        "id": "PDyIiUfFsqd5"
      },
      "source": [
        "## **Clone git**"
      ]
    },
    {
      "cell_type": "code",
      "metadata": {
        "id": "7iNEA0SWptMi"
      },
      "source": [
        "!git clone https://github.com/Pxtri2156/Pattern_Recognition_Final_Project.git"
      ],
      "execution_count": null,
      "outputs": []
    },
    {
      "cell_type": "markdown",
      "metadata": {
        "id": "zFQGMPGip2zK"
      },
      "source": [
        "## **Test argument function**"
      ]
    },
    {
      "cell_type": "markdown",
      "metadata": {
        "id": "oIxl51wjp19u"
      },
      "source": [
        "Mọi người upload file audio của mình lên và chỉnh sửa biến `` test_data_path``bên dưới."
      ]
    },
    {
      "cell_type": "code",
      "metadata": {
        "id": "zvCxh1oz8BEc"
      },
      "source": [
        "!pip install nlpaug"
      ],
      "execution_count": null,
      "outputs": []
    },
    {
      "cell_type": "code",
      "metadata": {
        "id": "esSyb-xsDILP"
      },
      "source": [
        "test_data_path = \"/content/dia29_utt8_anger.wav\""
      ],
      "execution_count": null,
      "outputs": []
    },
    {
      "cell_type": "code",
      "metadata": {
        "id": "WK2z8zpUD8xq"
      },
      "source": [
        "%cd /content/Pattern_Recognition_Final_Project\n",
        "import librosa\n",
        "import nlpaug\n",
        "from IPython.display import Audio\n",
        "import librosa.display\n",
        "# import seaborn as sns\n",
        "import matplotlib.pyplot as plt\n",
        "from argumentation.argument import noise, pitch, shift, crop, loudness, mask, \\\n",
        "                                    speed, vtlp, normalize, polarity_inversion\n",
        "\n",
        "data, sample_rate = librosa.load(test_data_path,duration=2.5, offset=0.6 )       "
      ],
      "execution_count": null,
      "outputs": []
    },
    {
      "cell_type": "markdown",
      "metadata": {
        "id": "1zs8V4Jqqrop"
      },
      "source": [
        "### **Origin**"
      ]
    },
    {
      "cell_type": "code",
      "metadata": {
        "id": "69mv8gPpqrNH"
      },
      "source": [
        "plt.figure(figsize=(14,4))\n",
        "librosa.display.waveplot(y=data, sr=sample_rate)\n",
        "Audio(data, rate=sample_rate)"
      ],
      "execution_count": null,
      "outputs": []
    },
    {
      "cell_type": "markdown",
      "metadata": {
        "id": "eT3MVms3HVPI"
      },
      "source": [
        "### **Noise**"
      ]
    },
    {
      "cell_type": "code",
      "metadata": {
        "id": "JnwwfIAfF2aA"
      },
      "source": [
        "noise_data = noise(data)\n",
        "plt.figure(figsize=(14,4))\n",
        "librosa.display.waveplot(y=noise_data, sr=sample_rate)\n",
        "Audio(noise_data, rate=sample_rate)"
      ],
      "execution_count": null,
      "outputs": []
    },
    {
      "cell_type": "markdown",
      "metadata": {
        "id": "bjabmvDXHbs9"
      },
      "source": [
        "### **Pitch**"
      ]
    },
    {
      "cell_type": "code",
      "metadata": {
        "id": "DQPiHOYjHCWF"
      },
      "source": [
        "pitch_data = pitch(data, sample_rate)\n",
        "plt.figure(figsize=(14,4))\n",
        "librosa.display.waveplot(y=pitch_data, sr=sample_rate)\n",
        "Audio(pitch_data, rate=sample_rate)"
      ],
      "execution_count": null,
      "outputs": []
    },
    {
      "cell_type": "markdown",
      "metadata": {
        "id": "G2lGRRmjH738"
      },
      "source": [
        "### **shift**"
      ]
    },
    {
      "cell_type": "code",
      "metadata": {
        "id": "6uAP2ZDfH73-"
      },
      "source": [
        "shift_data = shift(data)\n",
        "plt.figure(figsize=(14,4))\n",
        "librosa.display.waveplot(y=shift_data, sr=sample_rate)\n",
        "Audio(shift_data, rate=sample_rate)"
      ],
      "execution_count": null,
      "outputs": []
    },
    {
      "cell_type": "markdown",
      "metadata": {
        "id": "CnNQ7H3FOjlg"
      },
      "source": [
        "### **crop**"
      ]
    },
    {
      "cell_type": "code",
      "metadata": {
        "id": "AvNLs1qsOjly"
      },
      "source": [
        "crop_data = crop(data, sample_rate)\n",
        "plt.figure(figsize=(14,4))\n",
        "librosa.display.waveplot(y=crop_data, sr=sample_rate)\n",
        "Audio(crop_data, rate=sample_rate)"
      ],
      "execution_count": null,
      "outputs": []
    },
    {
      "cell_type": "code",
      "metadata": {
        "id": "WMclNGGxO-ux"
      },
      "source": [
        ""
      ],
      "execution_count": null,
      "outputs": []
    },
    {
      "cell_type": "markdown",
      "metadata": {
        "id": "PtF9a8AxPHlh"
      },
      "source": [
        "### **loudness**"
      ]
    },
    {
      "cell_type": "code",
      "metadata": {
        "id": "wuviRhd2PHlv"
      },
      "source": [
        "loudness_data = loudness(data)\n",
        "plt.figure(figsize=(14,4))\n",
        "librosa.display.waveplot(y=loudness_data, sr=sample_rate)\n",
        "Audio(loudness_data, rate=sample_rate)"
      ],
      "execution_count": null,
      "outputs": []
    },
    {
      "cell_type": "markdown",
      "metadata": {
        "id": "Ez_WL9OEQFYE"
      },
      "source": [
        "### **mask**"
      ]
    },
    {
      "cell_type": "code",
      "metadata": {
        "id": "fNrj3oZEQFYG"
      },
      "source": [
        "mask_data = mask(data, sample_rate)\n",
        "plt.figure(figsize=(14,4))\n",
        "librosa.display.waveplot(y=mask_data, sr=sample_rate)\n",
        "Audio(mask_data, rate=sample_rate)"
      ],
      "execution_count": null,
      "outputs": []
    },
    {
      "cell_type": "markdown",
      "metadata": {
        "id": "LwZ5YXfyQk5c"
      },
      "source": [
        "### **speed**"
      ]
    },
    {
      "cell_type": "code",
      "metadata": {
        "id": "jsMq1yeIQk5d"
      },
      "source": [
        "speed_data = speed(data)\n",
        "plt.figure(figsize=(14,4))\n",
        "librosa.display.waveplot(y=speed_data, sr=sample_rate)\n",
        "Audio(speed_data, rate=sample_rate)"
      ],
      "execution_count": null,
      "outputs": []
    },
    {
      "cell_type": "markdown",
      "metadata": {
        "id": "kJhgEkLbRBAP"
      },
      "source": [
        "### **vtlp**"
      ]
    },
    {
      "cell_type": "code",
      "metadata": {
        "id": "r5aKyVZbRBAQ"
      },
      "source": [
        "vtlp_data = vtlp(data, sample_rate)\n",
        "plt.figure(figsize=(14,4))\n",
        "librosa.display.waveplot(y=vtlp_data, sr=sample_rate)\n",
        "Audio(vtlp_data, rate=sample_rate)"
      ],
      "execution_count": null,
      "outputs": []
    },
    {
      "cell_type": "markdown",
      "metadata": {
        "id": "XaSu0lvMRVCc"
      },
      "source": [
        "### **normalize**"
      ]
    },
    {
      "cell_type": "code",
      "metadata": {
        "id": "5iHKaVoGRVCc"
      },
      "source": [
        "normalize_data = normalize(data)\n",
        "plt.figure(figsize=(14,4))\n",
        "librosa.display.waveplot(y=normalize_data, sr=sample_rate)\n",
        "Audio(normalize_data, rate=sample_rate)"
      ],
      "execution_count": null,
      "outputs": []
    },
    {
      "cell_type": "markdown",
      "metadata": {
        "id": "1jOVHrGpRV65"
      },
      "source": [
        "### **polarity_inversion_data**"
      ]
    },
    {
      "cell_type": "code",
      "metadata": {
        "id": "1UUf93m9RV67"
      },
      "source": [
        "polarity_inversion_data = polarity_inversion(data)\n",
        "plt.figure(figsize=(14,4))\n",
        "librosa.display.waveplot(y=polarity_inversion_data, sr=sample_rate)\n",
        "Audio(polarity_inversion_data, rate=sample_rate)"
      ],
      "execution_count": null,
      "outputs": []
    }
  ]
}